{
 "cells": [
  {
   "cell_type": "code",
   "execution_count": null,
   "id": "064238ff",
   "metadata": {},
   "outputs": [],
   "source": [
    "import cv2\n",
    "import numpy as np\n",
    "from ipywidgets import *\n",
    "import matplotlib.pyplot as plt\n",
    "\n",
    "cap = cv2.VideoCapture(0)\n",
    "ret, frame = cap.read()\n",
    "frame = np.array(frame)\n",
    "print(\"Frame shape: \" + str(frame.shape))\n",
    "plt.imshow(frame)\n",
    "img_hsv = cv2.cvtColor(frame,cv2.COLOR_BGR2HSV)\n",
    "img_hsv_blur = cv2.medianBlur(img_hsv,15)\n",
    "img_rgb = cv2.cvtColor(frame, cv2.COLOR_BGR2RGB)\n",
    "def f (hMin ,hMax ,Smin,Smax ,Vmin,Vmax):\n",
    "    #img1 = img\n",
    "    #img = cv2.cvtColor(img1 ,cv2.COLOR_BGR2RGB)  #in matplot image show in rgb format in cv2 it show in bgr format remeber this else you will face problem\n",
    "    #hsv = cv2.cvtColor(img_rgb,cv2.COLOR_RGB2HSV)# if you are going to use cv2 to show image then cv2.COLOR_BGR2HSV \n",
    "    hsv = img_hsv_blur\n",
    "    Lhsv = np.array([hMin,Smin,Vmin])\n",
    "    Uhsv = np.array([hMax ,Smax,Vmax])\n",
    "    mask = cv2.inRange(hsv,Lhsv ,Uhsv)\n",
    "    r = cv2.bitwise_and(img_rgb,img_rgb,mask =mask)\n",
    "    \n",
    "    \n",
    "    plt.imshow(r)\n",
    "  \n",
    "    \n",
    "interactive_plot = interactive(f,hMin=(0,179),hMax = (0,179),Smin = (0,250),Smax =(0,255),Vmin=(0,255),Vmax=(0,255))"
   ]
  },
  {
   "cell_type": "code",
   "execution_count": 2,
   "id": "f9192c3b",
   "metadata": {},
   "outputs": [
    {
     "data": {
      "application/vnd.jupyter.widget-view+json": {
       "model_id": "111bc68bc941480e8d5e6247e2ddd92f",
       "version_major": 2,
       "version_minor": 0
      },
      "text/plain": [
       "interactive(children=(IntSlider(value=89, description='hMin', max=179), IntSlider(value=89, description='hMax'…"
      ]
     },
     "execution_count": 2,
     "metadata": {},
     "output_type": "execute_result"
    }
   ],
   "source": [
    "interactive_plot"
   ]
  },
  {
   "cell_type": "code",
   "execution_count": null,
   "id": "af3198f7",
   "metadata": {},
   "outputs": [],
   "source": []
  }
 ],
 "metadata": {
  "kernelspec": {
   "display_name": "Python 3 (ipykernel)",
   "language": "python",
   "name": "python3"
  },
  "language_info": {
   "codemirror_mode": {
    "name": "ipython",
    "version": 3
   },
   "file_extension": ".py",
   "mimetype": "text/x-python",
   "name": "python",
   "nbconvert_exporter": "python",
   "pygments_lexer": "ipython3",
   "version": "3.8.13"
  }
 },
 "nbformat": 4,
 "nbformat_minor": 5
}
